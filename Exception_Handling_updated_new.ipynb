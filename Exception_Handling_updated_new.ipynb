{
 "cells": [
  {
   "cell_type": "code",
   "execution_count": 1,
   "id": "f8c76364-4b03-440b-8044-2076044762db",
   "metadata": {},
   "outputs": [
    {
     "data": {
      "text/plain": [
       "' Exception handling technique is used to handle the run time errorss like TypeError, SyntaxError, ZeroDivisionError etc.,. In Exception handling, we use the try and except statement to handle the \\nerrors which are occur while running time ( while execution of program )'"
      ]
     },
     "execution_count": 1,
     "metadata": {},
     "output_type": "execute_result"
    }
   ],
   "source": [
    "#Exception Handling\n",
    "\n",
    "\"\"\" Exception handling technique is used to handle the run time errorss like TypeError, SyntaxError, ZeroDivisionError etc.,. In Exception handling, we use the try and except statement to handle the \n",
    "errors which are occur while running time ( while execution of program )\"\"\"\n"
   ]
  },
  {
   "cell_type": "code",
   "execution_count": 2,
   "id": "edfd92de-a68c-42a2-88d9-b00a59efd17a",
   "metadata": {},
   "outputs": [],
   "source": [
    "#syntax of try and except statement\n",
    "\n",
    "try:\n",
    "    pass\n",
    "except Exception:\n",
    "    pass\n",
    "\n",
    "#or\n",
    "\n",
    "try:\n",
    "    # statement(s)\n",
    "    pass\n",
    "except IndexError:\n",
    "    # statement(s)\n",
    "    pass\n",
    "except ValueError:\n",
    "    # statement(s)\n",
    "    pass\n",
    "finally: # finally statement will execute at the end of the program\n",
    "    pass"
   ]
  },
  {
   "cell_type": "code",
   "execution_count": 3,
   "id": "401e0a39-3ae7-487c-9ad1-799265a9c994",
   "metadata": {},
   "outputs": [
    {
     "name": "stdout",
     "output_type": "stream",
     "text": [
      "else is exceuted if and only if the try statement executed without any error\n",
      "finally will execute always\n"
     ]
    }
   ],
   "source": [
    "#try-else statement\n",
    "\n",
    "a=10\n",
    "b=3 # if b is non-negative then else will be executed , if b is zero, then else won't execute( becuase there will be error occurs at try block , so that error will handled by exception)\n",
    "#=0 #Uncomment this and comment the above 'b' value to understand the working of else statement\n",
    "try:\n",
    "    c=a/b\n",
    "except ZeroDivisionError as e: # if you want to print the error description then you can write alias \"as e\" and print the 'e'\n",
    "    print(e)\n",
    "except:\n",
    "    print(\"If no except statement catches the error then the final except block (except:) executed\")\n",
    "else:\n",
    "    print(\"else is exceuted if and only if the try statement executed without any error\")\n",
    "finally:\n",
    "    print(\"finally will execute always\")\n"
   ]
  },
  {
   "cell_type": "code",
   "execution_count": 4,
   "id": "6e11bbff-76d9-4f25-84cc-8884a9d95da4",
   "metadata": {},
   "outputs": [
    {
     "name": "stdout",
     "output_type": "stream",
     "text": [
      "The error is : division by zero\n",
      "The final statement will exceute at the end of the program\n"
     ]
    }
   ],
   "source": [
    "#Let's see the simple program to use exception handling techniques\n",
    "\n",
    "a=23\n",
    "b=0\n",
    "try:\n",
    "    a/0\n",
    "except ZeroDivisionError as e: # you can comment these 2 lines and uncomment the below two lines , Observe the output\n",
    "    print(\"The error is :\",e)\n",
    "#except ZeroDivisionError:\n",
    "   #print(\"Zero Division error occurs\")\n",
    "except Exception: #or except : # # Exception is the base class for the all the in built and custom exceptions. we must write the base exception (Exception) after writing all in built exceptions\n",
    "    print(\"exception handled\")\n",
    "finally:\n",
    "    print(\"The final statement will exceute at the end of the program\")"
   ]
  },
  {
   "cell_type": "code",
   "execution_count": 5,
   "id": "47a311ae-daa4-4441-9eda-97f339b7278e",
   "metadata": {},
   "outputs": [
    {
     "name": "stdout",
     "output_type": "stream",
     "text": [
      "The Zero Division error occurs, The denominator must be non-zero values\n"
     ]
    }
   ],
   "source": [
    "#we can write the above program as below as well\n",
    "\n",
    "a=23\n",
    "b=0\n",
    "try:\n",
    "    a/0\n",
    "except ZeroDivisionError:\n",
    "    print(\"The Zero Division error occurs, The denominator must be non-zero values\")"
   ]
  },
  {
   "cell_type": "code",
   "execution_count": 6,
   "id": "4281b3ba-415c-4bb1-b6f6-8abff5d6e7b2",
   "metadata": {},
   "outputs": [
    {
     "name": "stdout",
     "output_type": "stream",
     "text": [
      "division by zero\n",
      "The final statement\n"
     ]
    }
   ],
   "source": [
    "# we can write except statement for multiple statements as well\n",
    "a=10\n",
    "b=0 \n",
    "try:\n",
    "    a/b\n",
    "    a/c #--> it gives \"NameError\" but we didn't written except statement for NameError so, the final except statement will executed then the output will be \"Exception Occured\" \"The final statement\"\n",
    "except (ZeroDivisionError, TypeError) as e: ##\n",
    "    print(e)\n",
    "except:\n",
    "    print(\"Exception occured\")\n",
    "finally:\n",
    "    print(\"The final statement\")"
   ]
  },
  {
   "cell_type": "code",
   "execution_count": 7,
   "id": "18fb2336-69c3-4abe-aab8-a4d4b45f3310",
   "metadata": {},
   "outputs": [
    {
     "data": {
      "text/plain": [
       "' The below mentioned are the in-built exceptions\\n\\nSyntaxError: This exception is raised when the interpreter encounters a syntax error in the code, such as a misspelled keyword, a missing colon, or an unbalanced parenthesis.\\nTypeError: This exception is raised when an operation or function is applied to an object of the wrong type, such as adding a string to an integer.\\nNameError: This exception is raised when a variable or function name is not found in the current scope.\\nIndexError: This exception is raised when an index is out of range for a list, tuple, or other sequence types.\\nKeyError: This exception is raised when a key is not found in a dictionary.\\nValueError: This exception is raised when a function or method is called with an invalid argument or input, such as trying to convert a string to an integer when the string does not represent a valid integer.\\nAttributeError: This exception is raised when an attribute or method is not found on an object, such as trying to access a non-existent attribute of a class instance.\\nIOError: This exception is raised when an I/O operation, such as reading or writing a file, fails due to an input/output error.\\nZeroDivisionError: This exception is raised when an attempt is made to divide a number by zero.\\nImportError: This exception is raised when an import statement fails to find or load a module.'"
      ]
     },
     "execution_count": 7,
     "metadata": {},
     "output_type": "execute_result"
    }
   ],
   "source": [
    "\"\"\" The below mentioned are the in-built exceptions\n",
    "\n",
    "SyntaxError: This exception is raised when the interpreter encounters a syntax error in the code, such as a misspelled keyword, a missing colon, or an unbalanced parenthesis.\n",
    "TypeError: This exception is raised when an operation or function is applied to an object of the wrong type, such as adding a string to an integer.\n",
    "NameError: This exception is raised when a variable or function name is not found in the current scope.\n",
    "IndexError: This exception is raised when an index is out of range for a list, tuple, or other sequence types.\n",
    "KeyError: This exception is raised when a key is not found in a dictionary.\n",
    "ValueError: This exception is raised when a function or method is called with an invalid argument or input, such as trying to convert a string to an integer when the string does not represent a valid integer.\n",
    "AttributeError: This exception is raised when an attribute or method is not found on an object, such as trying to access a non-existent attribute of a class instance.\n",
    "IOError: This exception is raised when an I/O operation, such as reading or writing a file, fails due to an input/output error.\n",
    "ZeroDivisionError: This exception is raised when an attempt is made to divide a number by zero.\n",
    "ImportError: This exception is raised when an import statement fails to find or load a module.\"\"\""
   ]
  },
  {
   "cell_type": "code",
   "execution_count": 8,
   "id": "eb0f3d5c-9aaf-49d5-bbe5-8d3c50ffed9e",
   "metadata": {},
   "outputs": [
    {
     "name": "stdout",
     "output_type": "stream",
     "text": [
      "ZeroDivisionError Occurred and Handled\n"
     ]
    }
   ],
   "source": [
    "#Simple program to illustrate the exception handling\n",
    "def fun(a):\n",
    "    if a < 4:\n",
    " \n",
    "        # throws ZeroDivisionError for a = 3\n",
    "        b = a/(a-3)\n",
    " \n",
    "    # throws NameError if a >= 4\n",
    "    print(\"Value of b = \", b)\n",
    "     \n",
    "try:\n",
    "    fun(3)\n",
    "    fun(5)\n",
    " \n",
    "# note that braces () are necessary here for\n",
    "# multiple exceptions\n",
    "except ZeroDivisionError:\n",
    "    print(\"ZeroDivisionError Occurred and Handled\")\n",
    "except NameError:\n",
    "    print(\"NameError Occurred and Handled\")"
   ]
  },
  {
   "cell_type": "code",
   "execution_count": 9,
   "id": "c1c54b86-eee3-4831-aa1b-209559f947d2",
   "metadata": {},
   "outputs": [],
   "source": [
    "# Custom Exceptions \n",
    "\n",
    "# How to create the custom exceptions ( custom exceptions means user defined exceptions )\n",
    "\n",
    "# To create the custom exception class we need to inherit the properties from the base class (Exception class , exception class is the inbuilt exceptions provided by the python)\n",
    "\n",
    "# Once we inherit the Exception class , then we can handle the error using the user defined exceptions according to the requirement\n",
    "\n",
    "# custom exceptions are raised by using the keyword \"raise\"\n",
    "\n",
    "# Let's see the small programs to know how to create the custom exceptions"
   ]
  },
  {
   "cell_type": "code",
   "execution_count": 10,
   "id": "6032cfc8-5ea7-4e53-9199-50800454ca53",
   "metadata": {},
   "outputs": [
    {
     "name": "stdout",
     "output_type": "stream",
     "text": [
      "Nethaji Exception is executed\n",
      "finally statement executed\n"
     ]
    }
   ],
   "source": [
    "# Custom Exceptions\n",
    "\n",
    "class Nethaji_Exception(Exception):\n",
    "    pass\n",
    "try:\n",
    "    if a>b:\n",
    "        raise Nethaji_Exception\n",
    "except Nethaji_Exception:\n",
    "    print(\"Nethaji Exception is executed\")\n",
    "except Exception:\n",
    "    print(\"Exception class is executed\")\n",
    "finally: # Finally statement will always execute , regarless of exception occurs or not\n",
    "    print(\"finally statement executed\")"
   ]
  },
  {
   "cell_type": "code",
   "execution_count": 11,
   "id": "053beb82-358e-4007-a01a-8419d6d679d4",
   "metadata": {},
   "outputs": [
    {
     "name": "stdout",
     "output_type": "stream",
     "text": [
      "Nethaji Exception was raised\n",
      "finally statement executed\n"
     ]
    }
   ],
   "source": [
    "# another program to illustrate the custom exceptions\n",
    "class Nethaji_Exception(Exception): # Nethaji Exception is child class for the parent class\n",
    "    def __init__(self, message=\"Nethaji Exception was raised\"):\n",
    "        super().__init__(message) # passing the message to parent class\n",
    "a,b=100,20\n",
    "try:\n",
    "    if a>b: \n",
    "        raise Nethaji_Exception() # 1) Raise keyword is used to call the custom exception\n",
    "except Nethaji_Exception as e: #comment these 2 lines and uncomment the below 2 commented lines and observe the output\n",
    "    print(e) # output is the above message which was passed to the parent class\n",
    "#except Nethaji_Exception:\n",
    "    #print(\"Need to write the manual message that needs to be print\") # output is the above message which was passed to the parent class\n",
    "except Exception:\n",
    "    print(\"Exception class is executed\")\n",
    "finally: # Finally statement will always execute , regarless of exception occurs or not\n",
    "    print(\"finally statement executed\")"
   ]
  },
  {
   "cell_type": "code",
   "execution_count": 12,
   "id": "db1bbbd5-03d3-4353-8ccc-5d861630118f",
   "metadata": {},
   "outputs": [
    {
     "name": "stdout",
     "output_type": "stream",
     "text": [
      "exception\n"
     ]
    }
   ],
   "source": [
    "# Best Practices that needs to be followed\n",
    " # Use logger concept and exception handling in every program to get the better understanding and for practise \n",
    "    \n",
    " # We must write the parent class \"Exception\" after writing the all the in built except statement\n",
    "\n",
    "#ex\n",
    "\n",
    "try:\n",
    "    int(\"Ab\") # for this statement we will get the \"Valueerror\" but we didn't written any except statement below for valueerror so , the last except statement will be executed\n",
    "except NameError:\n",
    "    print(\"Name error exceuted\")\n",
    "except TypeError:\n",
    "    print(\"Type error\")\n",
    "except ZeroDivisionError:\n",
    "    print(\"Zero Division error\")\n",
    "except: # or except Exception : # needs to write at the end of the all except statement \n",
    "    print(\"exception\")\n",
    " "
   ]
  },
  {
   "cell_type": "code",
   "execution_count": null,
   "id": "287e47d2-f4b1-49b1-8786-e1fccc996d8c",
   "metadata": {},
   "outputs": [],
   "source": []
  },
  {
   "cell_type": "code",
   "execution_count": null,
   "id": "74c52523-4d34-47fc-a8ff-9e55c2771a86",
   "metadata": {},
   "outputs": [],
   "source": []
  }
 ],
 "metadata": {
  "kernelspec": {
   "display_name": "Python 3 (ipykernel)",
   "language": "python",
   "name": "python3"
  },
  "language_info": {
   "codemirror_mode": {
    "name": "ipython",
    "version": 3
   },
   "file_extension": ".py",
   "mimetype": "text/x-python",
   "name": "python",
   "nbconvert_exporter": "python",
   "pygments_lexer": "ipython3",
   "version": "3.10.8"
  }
 },
 "nbformat": 4,
 "nbformat_minor": 5
}
